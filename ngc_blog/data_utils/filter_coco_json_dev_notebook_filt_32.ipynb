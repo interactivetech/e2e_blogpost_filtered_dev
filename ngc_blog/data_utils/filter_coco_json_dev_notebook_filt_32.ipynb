{
 "cells": [
  {
   "cell_type": "markdown",
   "id": "7177f8e9-8809-45eb-8bd2-5fcb0ac8f7ac",
   "metadata": {},
   "source": [
    "# Filter Dataset"
   ]
  },
  {
   "cell_type": "code",
   "execution_count": 1,
   "id": "a7a0a977-a6fb-402e-ab59-9c5e50595833",
   "metadata": {},
   "outputs": [
    {
     "name": "stderr",
     "output_type": "stream",
     "text": [
      "/opt/conda/lib/python3.8/site-packages/tqdm/auto.py:21: TqdmWarning: IProgress not found. Please update jupyter and ipywidgets. See https://ipywidgets.readthedocs.io/en/stable/user_install.html\n",
      "  from .autonotebook import tqdm as notebook_tqdm\n"
     ]
    }
   ],
   "source": [
    "import json\n",
    "from sahi.utils.coco import Coco, CocoAnnotation, CocoCategory, CocoImage\n",
    "from sahi.utils.file import load_json, save_json"
   ]
  },
  {
   "cell_type": "code",
   "execution_count": 2,
   "id": "0f6662e5-f2d9-49ae-a287-6b221e7b2e4b",
   "metadata": {},
   "outputs": [],
   "source": [
    "import copy\n",
    "import os\n",
    "import shutil\n",
    "from pathlib import Path\n",
    "def copy_files_to_directory(file_paths, new_directory):\n",
    "    # Create the new directory if it doesn't exist\n",
    "    Path(new_directory).mkdir(parents=True, exist_ok=True)\n",
    "\n",
    "    # Copy each file into the new directory\n",
    "    for file_path in file_paths:\n",
    "        file_name = Path(file_path).name\n",
    "        destination = Path(new_directory) / file_name\n",
    "        shutil.copyfile(file_path, str(destination))\n",
    "        \n",
    "def update_categories(coco,desired_name2id, update_image_filenames=False):\n",
    "        \"\"\"\n",
    "        Rearranges category mapping of given COCO object based on given desired_name2id.\n",
    "        Can also be used to filter some of the categories.\n",
    "\n",
    "        Args:\n",
    "            desired_name2id: dict\n",
    "                {\"big_vehicle\": 1, \"car\": 2, \"human\": 3}\n",
    "            update_image_filenames: bool\n",
    "                If True, updates coco image file_names with absolute file paths.\n",
    "        \"\"\"\n",
    "        # init vars\n",
    "        currentid2desiredid_mapping = {}\n",
    "        updated_coco = Coco(\n",
    "            name=coco.name,\n",
    "            image_dir=coco.image_dir,\n",
    "            remapping_dict=coco.remapping_dict,\n",
    "            ignore_negative_samples=coco.ignore_negative_samples,\n",
    "        )\n",
    "        # create category id mapping (currentid2desiredid_mapping)\n",
    "        for coco_category in copy.deepcopy(coco.categories):\n",
    "            current_category_id = coco_category.id\n",
    "            current_category_name = coco_category.name\n",
    "            if current_category_name in desired_name2id.keys():\n",
    "                currentid2desiredid_mapping[current_category_id] = desired_name2id[current_category_name]\n",
    "            else:\n",
    "                # ignore categories that are not included in desired_name2id\n",
    "                currentid2desiredid_mapping[current_category_id] = None\n",
    "\n",
    "        # add updated categories\n",
    "        for name in desired_name2id.keys():\n",
    "            updated_coco_category = CocoCategory(id=desired_name2id[name], name=name, supercategory=name)\n",
    "            updated_coco.add_category(updated_coco_category)\n",
    "\n",
    "        # add updated images & annotations\n",
    "        for coco_image in copy.deepcopy(coco.images):\n",
    "            updated_coco_image = CocoImage.from_coco_image_dict(coco_image.json)\n",
    "            # update filename to abspath\n",
    "            file_name_is_abspath = True if os.path.abspath(coco_image.file_name) == coco_image.file_name else False\n",
    "            if update_image_filenames and not file_name_is_abspath:\n",
    "                updated_coco_image.file_name = str(Path(os.path.abspath(self.image_dir)) / coco_image.file_name)\n",
    "            # update annotations\n",
    "            for coco_annotation in coco_image.annotations:\n",
    "                # print(coco_annotation)\n",
    "                current_category_id = coco_annotation.category_id\n",
    "                desired_category_id = currentid2desiredid_mapping[current_category_id]\n",
    "                # append annotations with category id present in desired_name2id\n",
    "                if desired_category_id is not None:\n",
    "                    # update cetegory id\n",
    "                    coco_annotation.category_id = desired_category_id\n",
    "                    # append updated annotation to target coco dict\n",
    "                    updated_coco_image.add_annotation(coco_annotation)\n",
    "            updated_coco.add_image(updated_coco_image)\n",
    "\n",
    "        # overwrite instance\n",
    "        coco.__class__ = updated_coco.__class__\n",
    "        coco.__dict__ = updated_coco.__dict__\n",
    "\n",
    "def update_categories_small(coco,desired_name2id, update_image_filenames=False):\n",
    "        # train\n",
    "        # l_im = [4098, 4099, 2057, 4106, 2060, 2061, 4109, 2063, 2064, 2066, 2067, 2068, 2069, 2070, 14365, 14366, 14367, 14368, 14369, 14371, 14372, 14373, 14374, 14375, 14376, 14379, 14380, 14381, 57, 58, 61, 62, 69, 70, 91, 2163, 2164, 2165, 2166, 2168, 2169, 2170, 2171, 2172, 2173, 2174, 2178, 2179, 10381, 143, 2191, 145, 2192, 2193, 149, 2197, 2198, 2199, 8353, 8354, 8355, 8356, 8358, 8359, 8360, 8361, 8362, 10440, 10441, 10442, 10445, 10447, 10448, 10450, 10451, 10453, 10454, 6359, 6360, 6366, 6367, 14561, 14562, 6373, 6374, 4339, 4340, 4345, 4346, 6402, 6403, 6404, 6405, 6406, 6407, 6408, 6409, 6410, 14606, 14607, 4375, 4376, 4382, 4383, 11862, 8622, 476, 477, 12775, 12776, 489, 14828, 14829, 12782, 12783, 14830, 14835, 14836, 14837, 2586, 2587, 12830, 12835, 8740, 8741, 8742, 10792, 8746, 8747, 556, 8748, 8749, 561, 562, 563, 564, 8753, 566, 567, 568, 569, 570, 2616, 572, 573, 574, 575, 2622, 12856, 12857, 12858, 12859, 12860, 12861, 12862, 12863, 12864, 12865, 12866, 12867, 12868, 12869, 12870, 12873, 2641, 2642, 12874, 12875, 12876, 2646, 2647, 2648, 12881, 12882, 12883, 2652, 12884, 12886, 12887, 12888, 12890, 12891, 13963, 13964, 2695, 13969, 2703, 2705, 2706, 4807, 4808, 4809, 4810, 4811, 14927, 2810, 2812, 2813, 2814, 2815, 6928, 6931, 6932, 6936, 6937, 6938, 6939, 13110, 855, 4956, 4957, 4959, 4960, 7010, 7011, 7015, 4970, 7020, 4973, 2926, 2928, 2929, 11159, 11165, 11173, 11174, 11175, 11180, 11181, 11185, 11186, 13246, 3026, 3027, 3028, 3031, 3032, 3033, 3034, 3035, 3036, 3037, 3039, 3040, 9220, 9224, 7177, 7178, 8754, 7182, 7183, 7185, 7186, 7187, 1044, 1045, 3094, 1047, 1048, 1049, 1050, 1051, 1052, 3098, 3099, 3102, 3103, 7198, 7201, 7202, 7203, 7204, 7207, 7208, 7209, 7212, 7213, 11313, 11314, 11317, 11318, 8755, 1137, 1138, 1139, 1141, 1143, 1144, 1145, 1147, 7323, 7331, 11427, 12855, 3241, 3242, 7337, 7338, 11433, 11439, 3248, 3249, 11450, 3095, 3295, 3300, 14908, 7433, 7434, 7435, 7438, 7439, 7440, 7441, 5397, 5398, 5399, 7445, 5401, 5402, 7451, 5404, 5405, 12878, 5407, 5408, 12879, 14918, 7188, 7189, 7190, 7191, 14925, 7192, 14926, 1372, 1373, 7193, 1374, 1375, 1376, 1377, 1378, 1379, 1380, 13666, 13667, 1384, 13673, 14928, 1387, 1388, 1389, 9581, 9582, 14930, 9585, 9586, 13687, 13688, 13721, 13722, 13727, 13728, 11683, 11684, 11689, 11690, 11691, 11696, 11697, 11698, 9653, 11283, 11284, 11287, 11288, 3554, 9699, 9700, 9702, 9703, 9759, 9764, 3628, 7747, 7748, 7753, 7754, 3663, 3664, 3665, 3666, 3667, 3668, 3669, 3670, 3671, 3672, 3673, 3674, 3675, 3676, 3677, 3678, 3679, 11863, 11867, 11873, 5754, 5755, 5760, 5761, 5762, 7810, 7811, 11904, 5766, 11905, 5768, 11906, 11909, 5771, 5772, 5773, 11910, 11911, 11912, 5777, 1682, 1683, 1684, 1685, 5778, 5779, 13968, 1689, 1690, 13970, 13971, 13972, 13974, 1704, 1706, 9902, 1711, 9903, 9904, 9905, 9906, 9907, 9908, 9909, 9910, 9911, 11981, 11988, 11989, 11990, 11991, 11992, 11993, 11994, 11995, 11996, 11997, 11998, 7906, 7907, 1815, 1816, 10007, 10012, 1821, 1822, 1823, 10013, 1825, 10014, 1827, 1828, 10015, 10016, 10017, 10018, 1833, 10019, 3883, 3884, 10020, 10023, 14138, 14139, 14140, 14143, 14144, 14145, 14146, 14147, 14150, 14151, 14152, 14157, 14164, 8027, 8028, 12124, 14172, 8032, 8033, 8035, 8036, 12131, 8040, 8041, 8042, 8043, 12138, 8050, 8051, 8052, 8053, 8061, 1918, 1919, 1921, 1922, 14223, 14224, 3985, 3986, 14225, 14229, 3990, 3991, 14230, 14234, 3995, 3996, 14235, 14236, 14238, 14239, 14240, 14243, 14244, 10149, 10150, 10151, 14245, 14246, 10154, 10155, 14247, 14249, 14250, 14251, 12212, 12213, 12223, 4035, 10179, 4037, 4038, 12227, 12236, 12237, 12239, 12240, 12241, 12242, 12243, 12244, 12245, 12246, 8178, 8186, 8188, 8189]\n",
    "        # Val indicies\n",
    "        l_im = [4098, 4099, 3588, 3589, 4101, 4102, 4103, 4105, 4106, 4108, 525, 4109, 4125, 4129, 42, 43, 2620, 2621, 2625, 2626, 2640, 2644, 3670, 3688, 3689, 3692, 3693, 3694, 3700, 3701, 4094, 1686, 1687, 1688, 1693, 1700, 1701, 3245, 3246, 3251, 3252, 3253, 3256, 3257, 3258, 3259, 3260, 3345, 3262, 3263, 3264, 3266, 2246, 3788, 3789, 3790, 3794, 3795, 2262, 2263, 2264, 2265, 2266, 2267, 2268, 2269, 3799, 3807, 1761, 738, 739, 1762, 1763, 3815, 1768, 3816, 237, 238, 2799, 2800, 242, 243, 1784, 248, 249, 250, 1787, 252, 253, 254, 255, 2809, 2810, 260, 261, 1286, 1287, 1288, 1289, 266, 267, 1290, 1291, 1292, 1293, 1294, 1295, 1296, 1297, 1298, 1299, 2830, 2831, 1304, 1305, 2836, 2839, 3349, 3350, 3351, 3352, 3353, 3386, 3392, 3906, 3907, 2372, 3908, 3909, 3910, 2378, 847, 848, 851, 2387, 2388, 854, 855, 2391, 2392, 858, 859, 3429, 3432, 3436, 1389, 1414, 1415, 1416, 1417, 1418, 1422, 1423, 3339, 430, 431, 432, 433, 3343, 437, 438, 3344, 957, 2493, 959, 960, 961, 962, 2494, 2499, 2500, 2501, 967, 3346, 969, 2506, 2507, 2508, 4057, 4058, 4066, 4067, 3580, 3581, 3582]\n",
    "        \"\"\"\n",
    "        Andrew 7.18.2023: only return 32 images (2 batches)\n",
    "        Rearranges category mapping of given COCO object based on given desired_name2id.\n",
    "        Can also be used to filter some of the categories.\n",
    "\n",
    "        Args:\n",
    "            desired_name2id: dict\n",
    "                {\"big_vehicle\": 1, \"car\": 2, \"human\": 3}\n",
    "            update_image_filenames: bool\n",
    "                If True, updates coco image file_names with absolute file paths.\n",
    "        \"\"\"\n",
    "        # init vars\n",
    "        currentid2desiredid_mapping = {}\n",
    "        updated_coco = Coco(\n",
    "            name=coco.name,\n",
    "            image_dir=coco.image_dir,\n",
    "            remapping_dict=coco.remapping_dict,\n",
    "            ignore_negative_samples=coco.ignore_negative_samples,\n",
    "        )\n",
    "        # create category id mapping (currentid2desiredid_mapping)\n",
    "        for coco_category in copy.deepcopy(coco.categories):\n",
    "            current_category_id = coco_category.id\n",
    "            current_category_name = coco_category.name\n",
    "            if current_category_name in desired_name2id.keys():\n",
    "                currentid2desiredid_mapping[current_category_id] = desired_name2id[current_category_name]\n",
    "            else:\n",
    "                # ignore categories that are not included in desired_name2id\n",
    "                currentid2desiredid_mapping[current_category_id] = None\n",
    "\n",
    "        # add updated categories\n",
    "        for name in desired_name2id.keys():\n",
    "            updated_coco_category = CocoCategory(id=desired_name2id[name], name=name, supercategory=name)\n",
    "            updated_coco.add_category(updated_coco_category)\n",
    "        l = []\n",
    "        # add updated images & annotations\n",
    "        for ind,coco_image in enumerate(copy.deepcopy([coco.images[i] for i in l_im[:32]])):\n",
    "        # for ind,coco_image in enumerate(copy.deepcopy(coco.images)):\n",
    "\n",
    "            updated_coco_image = CocoImage.from_coco_image_dict(coco_image.json)\n",
    "            # update filename to abspath\n",
    "            file_name_is_abspath = True if os.path.abspath(coco_image.file_name) == coco_image.file_name else False\n",
    "            if update_image_filenames and not file_name_is_abspath:\n",
    "                updated_coco_image.file_name = str(Path(os.path.abspath(self.image_dir)) / coco_image.file_name)\n",
    "            # update annotations\n",
    "            for coco_annotation in coco_image.annotations:\n",
    "                # print(coco_annotation)\n",
    "                current_category_id = coco_annotation.category_id\n",
    "                desired_category_id = currentid2desiredid_mapping[current_category_id]\n",
    "                # append annotations with category id present in desired_name2id\n",
    "                if desired_category_id is not None:\n",
    "                    # print(ind)\n",
    "                    l.append(ind)\n",
    "                    # update cetegory id\n",
    "                    coco_annotation.category_id = desired_category_id\n",
    "                    # append updated annotation to target coco dict\n",
    "                    updated_coco_image.add_annotation(coco_annotation)\n",
    "            updated_coco.add_image(updated_coco_image)\n",
    "        print(set(l))\n",
    "        # overwrite instance\n",
    "        coco.__class__ = updated_coco.__class__\n",
    "        coco.__dict__ = updated_coco.__dict__"
   ]
  },
  {
   "cell_type": "code",
   "execution_count": 4,
   "id": "31e203af-0143-4cef-a045-5d3d77951f2d",
   "metadata": {},
   "outputs": [
    {
     "name": "stdout",
     "output_type": "stream",
     "text": [
      "indexing coco dataset annotations...\n"
     ]
    },
    {
     "name": "stderr",
     "output_type": "stream",
     "text": [
      "Loading coco annotations: 100%|██████████| 15154/15154 [00:55<00:00, 271.09it/s]\n"
     ]
    },
    {
     "name": "stdout",
     "output_type": "stream",
     "text": [
      "[{'id': 0, 'name': 'Fixed-wing Aircraft', 'supercategory': 'Fixed-wing Aircraft'}, {'id': 1, 'name': 'Small Aircraft', 'supercategory': 'Small Aircraft'}, {'id': 2, 'name': 'Cargo Plane', 'supercategory': 'Cargo Plane'}, {'id': 3, 'name': 'Helicopter', 'supercategory': 'Helicopter'}, {'id': 4, 'name': 'Passenger Vehicle', 'supercategory': 'Passenger Vehicle'}, {'id': 5, 'name': 'Small Car', 'supercategory': 'Small Car'}, {'id': 6, 'name': 'Bus', 'supercategory': 'Bus'}, {'id': 7, 'name': 'Pickup Truck', 'supercategory': 'Pickup Truck'}, {'id': 8, 'name': 'Utility Truck', 'supercategory': 'Utility Truck'}, {'id': 9, 'name': 'Truck', 'supercategory': 'Truck'}, {'id': 10, 'name': 'Cargo Truck', 'supercategory': 'Cargo Truck'}, {'id': 11, 'name': 'Truck w/Box', 'supercategory': 'Truck w/Box'}, {'id': 12, 'name': 'Truck Tractor', 'supercategory': 'Truck Tractor'}, {'id': 13, 'name': 'Trailer', 'supercategory': 'Trailer'}, {'id': 14, 'name': 'Truck w/Flatbed', 'supercategory': 'Truck w/Flatbed'}, {'id': 15, 'name': 'Truck w/Liquid', 'supercategory': 'Truck w/Liquid'}, {'id': 16, 'name': 'Crane Truck', 'supercategory': 'Crane Truck'}, {'id': 17, 'name': 'Railway Vehicle', 'supercategory': 'Railway Vehicle'}, {'id': 18, 'name': 'Passenger Car', 'supercategory': 'Passenger Car'}, {'id': 19, 'name': 'Cargo Car', 'supercategory': 'Cargo Car'}, {'id': 20, 'name': 'Flat Car', 'supercategory': 'Flat Car'}, {'id': 21, 'name': 'Tank car', 'supercategory': 'Tank car'}, {'id': 22, 'name': 'Locomotive', 'supercategory': 'Locomotive'}, {'id': 23, 'name': 'Maritime Vessel', 'supercategory': 'Maritime Vessel'}, {'id': 24, 'name': 'Motorboat', 'supercategory': 'Motorboat'}, {'id': 25, 'name': 'Sailboat', 'supercategory': 'Sailboat'}, {'id': 26, 'name': 'Tugboat', 'supercategory': 'Tugboat'}, {'id': 27, 'name': 'Barge', 'supercategory': 'Barge'}, {'id': 28, 'name': 'Fishing Vessel', 'supercategory': 'Fishing Vessel'}, {'id': 29, 'name': 'Ferry', 'supercategory': 'Ferry'}, {'id': 30, 'name': 'Yacht', 'supercategory': 'Yacht'}, {'id': 31, 'name': 'Container Ship', 'supercategory': 'Container Ship'}, {'id': 32, 'name': 'Oil Tanker', 'supercategory': 'Oil Tanker'}, {'id': 33, 'name': 'Engineering Vehicle', 'supercategory': 'Engineering Vehicle'}, {'id': 34, 'name': 'Tower crane', 'supercategory': 'Tower crane'}, {'id': 35, 'name': 'Container Crane', 'supercategory': 'Container Crane'}, {'id': 36, 'name': 'Reach Stacker', 'supercategory': 'Reach Stacker'}, {'id': 37, 'name': 'Straddle Carrier', 'supercategory': 'Straddle Carrier'}, {'id': 38, 'name': 'Mobile Crane', 'supercategory': 'Mobile Crane'}, {'id': 39, 'name': 'Dump Truck', 'supercategory': 'Dump Truck'}, {'id': 40, 'name': 'Haul Truck', 'supercategory': 'Haul Truck'}, {'id': 41, 'name': 'Scraper/Tractor', 'supercategory': 'Scraper/Tractor'}, {'id': 42, 'name': 'Front loader/Bulldozer', 'supercategory': 'Front loader/Bulldozer'}, {'id': 43, 'name': 'Excavator', 'supercategory': 'Excavator'}, {'id': 44, 'name': 'Cement Mixer', 'supercategory': 'Cement Mixer'}, {'id': 45, 'name': 'Ground Grader', 'supercategory': 'Ground Grader'}, {'id': 46, 'name': 'Hut/Tent', 'supercategory': 'Hut/Tent'}, {'id': 47, 'name': 'Shed', 'supercategory': 'Shed'}, {'id': 48, 'name': 'Building', 'supercategory': 'Building'}, {'id': 49, 'name': 'Aircraft Hangar', 'supercategory': 'Aircraft Hangar'}, {'id': 50, 'name': 'Damaged Building', 'supercategory': 'Damaged Building'}, {'id': 51, 'name': 'Facility', 'supercategory': 'Facility'}, {'id': 52, 'name': 'Construction Site', 'supercategory': 'Construction Site'}, {'id': 53, 'name': 'Vehicle Lot', 'supercategory': 'Vehicle Lot'}, {'id': 54, 'name': 'Helipad', 'supercategory': 'Helipad'}, {'id': 55, 'name': 'Storage Tank', 'supercategory': 'Storage Tank'}, {'id': 56, 'name': 'Shipping container lot', 'supercategory': 'Shipping container lot'}, {'id': 57, 'name': 'Shipping Container', 'supercategory': 'Shipping Container'}, {'id': 58, 'name': 'Pylon', 'supercategory': 'Pylon'}, {'id': 59, 'name': 'Tower', 'supercategory': 'Tower'}]\n",
      "{'num_images': 15154, 'num_annotations': 861692, 'num_categories': 60, 'num_negative_images': 0, 'num_images_per_category': {'Building': 12271, 'Small Car': 10115, 'Helicopter': 63, 'Shipping Container': 364, 'Truck': 4529, 'Utility Truck': 1989, 'Pickup Truck': 831, 'Facility': 970, 'Fixed-wing Aircraft': 68, 'Aircraft Hangar': 175, 'Cargo Plane': 540, 'Trailer': 1184, 'Construction Site': 831, 'Storage Tank': 664, 'Small Aircraft': 148, 'Tower': 114, 'Bus': 3041, 'Passenger Vehicle': 849, 'Shed': 745, 'Hut/Tent': 237, 'Cargo Truck': 2521, 'Damaged Building': 609, 'Truck w/Box': 1320, 'Cement Mixer': 135, 'Vehicle Lot': 2351, 'Dump Truck': 837, 'Truck Tractor': 322, 'Shipping container lot': 641, 'Mobile Crane': 273, 'Scraper/Tractor': 73, 'Front loader/Bulldozer': 521, 'Haul Truck': 149, 'Ground Grader': 92, 'Excavator': 667, 'Crane Truck': 198, 'Engineering Vehicle': 234, 'Truck w/Flatbed': 594, 'Tower crane': 155, 'Container Ship': 279, 'Maritime Vessel': 330, 'Fishing Vessel': 239, 'Ferry': 134, 'Reach Stacker': 46, 'Pylon': 395, 'Cargo Car': 251, 'Helipad': 102, 'Motorboat': 325, 'Passenger Car': 202, 'Locomotive': 126, 'Truck w/Liquid': 109, 'Oil Tanker': 98, 'Sailboat': 110, 'Yacht': 139, 'Barge': 173, 'Tugboat': 166, 'Container Crane': 112, 'Straddle Carrier': 49, 'Tank car': 29, 'Flat Car': 41, 'Railway Vehicle': 10}, 'num_annotations_per_category': {'Fixed-wing Aircraft': 88, 'Small Aircraft': 544, 'Cargo Plane': 1063, 'Helicopter': 107, 'Passenger Vehicle': 3466, 'Small Car': 286598, 'Bus': 9886, 'Pickup Truck': 1709, 'Utility Truck': 4727, 'Truck': 18660, 'Cargo Truck': 7617, 'Truck w/Box': 5433, 'Truck Tractor': 800, 'Trailer': 5925, 'Truck w/Flatbed': 1164, 'Truck w/Liquid': 193, 'Crane Truck': 268, 'Railway Vehicle': 26, 'Passenger Car': 2822, 'Cargo Car': 3216, 'Flat Car': 183, 'Tank car': 155, 'Locomotive': 194, 'Maritime Vessel': 880, 'Motorboat': 2019, 'Sailboat': 855, 'Tugboat': 300, 'Barge': 282, 'Fishing Vessel': 1166, 'Ferry': 342, 'Yacht': 779, 'Container Ship': 451, 'Oil Tanker': 151, 'Engineering Vehicle': 305, 'Tower crane': 242, 'Container Crane': 280, 'Reach Stacker': 82, 'Straddle Carrier': 107, 'Mobile Crane': 421, 'Dump Truck': 2019, 'Haul Truck': 447, 'Scraper/Tractor': 133, 'Front loader/Bulldozer': 968, 'Excavator': 1315, 'Cement Mixer': 326, 'Ground Grader': 112, 'Hut/Tent': 1111, 'Shed': 1647, 'Building': 469199, 'Aircraft Hangar': 362, 'Damaged Building': 1682, 'Facility': 1480, 'Construction Site': 2331, 'Vehicle Lot': 6441, 'Helipad': 224, 'Storage Tank': 2585, 'Shipping container lot': 3377, 'Shipping Container': 1722, 'Pylon': 568, 'Tower': 137}, 'min_num_annotations_in_image': 1, 'max_num_annotations_in_image': 1139, 'avg_num_annotations_in_image': 56.86234657516167, 'min_annotation_area': 1, 'max_annotation_area': 409600, 'avg_annotation_area': 2310.884117526912, 'min_annotation_area_per_category': {'Fixed-wing Aircraft': 272, 'Small Aircraft': 125, 'Cargo Plane': 324, 'Helicopter': 270, 'Passenger Vehicle': 7, 'Small Car': 1, 'Bus': 12, 'Pickup Truck': 19, 'Utility Truck': 6, 'Truck': 8, 'Cargo Truck': 11, 'Truck w/Box': 34, 'Truck Tractor': 24, 'Trailer': 10, 'Truck w/Flatbed': 22, 'Truck w/Liquid': 48, 'Crane Truck': 70, 'Railway Vehicle': 208, 'Passenger Car': 96, 'Cargo Car': 27, 'Flat Car': 132, 'Tank car': 126, 'Locomotive': 140, 'Maritime Vessel': 27, 'Motorboat': 16, 'Sailboat': 13, 'Tugboat': 152, 'Barge': 342, 'Fishing Vessel': 20, 'Ferry': 117, 'Yacht': 114, 'Container Ship': 250, 'Oil Tanker': 924, 'Engineering Vehicle': 52, 'Tower crane': 387, 'Container Crane': 6, 'Reach Stacker': 204, 'Straddle Carrier': 104, 'Mobile Crane': 69, 'Dump Truck': 18, 'Haul Truck': 150, 'Scraper/Tractor': 72, 'Front loader/Bulldozer': 18, 'Excavator': 64, 'Cement Mixer': 42, 'Ground Grader': 169, 'Hut/Tent': 24, 'Shed': 16, 'Building': 1, 'Aircraft Hangar': 312, 'Damaged Building': 28, 'Facility': 224, 'Construction Site': 162, 'Vehicle Lot': 9, 'Helipad': 72, 'Storage Tank': 24, 'Shipping container lot': 112, 'Shipping Container': 18, 'Pylon': 228, 'Tower': 110}, 'max_annotation_area_per_category': {'Fixed-wing Aircraft': 15255, 'Small Aircraft': 12390, 'Cargo Plane': 62464, 'Helicopter': 5478, 'Passenger Vehicle': 2028, 'Small Car': 93288, 'Bus': 3432, 'Pickup Truck': 1421, 'Utility Truck': 1110, 'Truck': 3888, 'Cargo Truck': 16100, 'Truck w/Box': 12560, 'Truck Tractor': 2310, 'Trailer': 33830, 'Truck w/Flatbed': 3599, 'Truck w/Liquid': 3078, 'Crane Truck': 6864, 'Railway Vehicle': 6324, 'Passenger Car': 6300, 'Cargo Car': 5456, 'Flat Car': 3286, 'Tank car': 4420, 'Locomotive': 5247, 'Maritime Vessel': 209076, 'Motorboat': 3240, 'Sailboat': 7100, 'Tugboat': 17472, 'Barge': 89376, 'Fishing Vessel': 39022, 'Ferry': 155952, 'Yacht': 21528, 'Container Ship': 215760, 'Oil Tanker': 121600, 'Engineering Vehicle': 25600, 'Tower crane': 53250, 'Container Crane': 178112, 'Reach Stacker': 2142, 'Straddle Carrier': 39396, 'Mobile Crane': 57596, 'Dump Truck': 2784, 'Haul Truck': 4307, 'Scraper/Tractor': 1872, 'Front loader/Bulldozer': 2752, 'Excavator': 3552, 'Cement Mixer': 1364, 'Ground Grader': 1833, 'Hut/Tent': 47740, 'Shed': 182397, 'Building': 409600, 'Aircraft Hangar': 191697, 'Damaged Building': 116509, 'Facility': 344320, 'Construction Site': 409600, 'Vehicle Lot': 409600, 'Helipad': 32204, 'Storage Tank': 74530, 'Shipping container lot': 384000, 'Shipping Container': 17700, 'Pylon': 47871, 'Tower': 26562}}\n",
      "{0, 1, 8, 11, 22}\n",
      "indexing coco dataset annotations...\n"
     ]
    },
    {
     "name": "stderr",
     "output_type": "stream",
     "text": [
      "Loading coco annotations: 100%|██████████| 5/5 [00:00<00:00, 6762.82it/s]"
     ]
    },
    {
     "name": "stdout",
     "output_type": "stream",
     "text": [
      "['/run/determined/workdir/shared_fs/01 - Users/andrew.mendez/e2e_blogposts/ngc_blog/xview_dataset/train_images_rgb_no_neg/train_images_640_02/1165_0_2048_640_2688.jpg', '/run/determined/workdir/shared_fs/01 - Users/andrew.mendez/e2e_blogposts/ngc_blog/xview_dataset/train_images_rgb_no_neg/train_images_640_02/1165_0_2251_640_2891.jpg', '/run/determined/workdir/shared_fs/01 - Users/andrew.mendez/e2e_blogposts/ngc_blog/xview_dataset/train_images_rgb_no_neg/train_images_640_02/2498_512_512_1152_1152.jpg', '/run/determined/workdir/shared_fs/01 - Users/andrew.mendez/e2e_blogposts/ngc_blog/xview_dataset/train_images_rgb_no_neg/train_images_640_02/2498_512_1024_1152_1664.jpg', '/run/determined/workdir/shared_fs/01 - Users/andrew.mendez/e2e_blogposts/ngc_blog/xview_dataset/train_images_rgb_no_neg/train_images_640_02/2531_2048_512_2688_1152.jpg']\n"
     ]
    },
    {
     "name": "stderr",
     "output_type": "stream",
     "text": [
      "\n"
     ]
    }
   ],
   "source": [
    "PATH = '/run/determined/workdir/shared_fs/01 - Users/andrew.mendez/e2e_blogposts/ngc_blog/xview_dataset/train_images_rgb_no_neg/train_640_02.json'\n",
    "\n",
    "coco = Coco.from_coco_dict_or_path(PATH)\n",
    "print(coco.json_categories)\n",
    "coco.calculate_stats()\n",
    "print(coco.stats)\n",
    "update_categories_small(coco,desired_name2id={'Fixed-wing Aircraft':1,'Cargo Plane':2})\n",
    "coco.calculate_stats()\n",
    "from sahi.utils.coco import create_coco_dict\n",
    "cats = coco.json_categories\n",
    "di = create_coco_dict(coco.images,coco.categories,ignore_negative_samples=True)\n",
    "di['categories']=coco.json_categories\n",
    "JSON_PATH='/run/determined/workdir/shared_fs/01 - Users/andrew.mendez/e2e_blogposts/ngc_blog/xview_dataset/train_images_rgb_no_neg/train_640_02_filtered_32.json'\n",
    "json.dump(di,open(JSON_PATH,'w'))\n",
    "coco_u = Coco.from_coco_dict_or_path(JSON_PATH)\n",
    "coco_u.calculate_stats()\n",
    "coco_u.stats\n",
    "id2fname = {i.id:i.file_name for i in coco_u.images}\n",
    "fnames = list(id2fname.values())\n",
    "import os\n",
    "NEW_DIR = '/run/determined/workdir/shared_fs/01 - Users/andrew.mendez/e2e_blogposts/ngc_blog/xview_dataset/train_images_rgb_no_neg_filt_32/train_images_640_02_filt_32'\n",
    "\n",
    "full_fnames = [os.path.join('/run/determined/workdir/shared_fs/01 - Users/andrew.mendez/e2e_blogposts/ngc_blog/xview_dataset/train_images_rgb_no_neg/train_images_640_02',i) for i in fnames]\n",
    "print(full_fnames)\n",
    "copy_files_to_directory(full_fnames,NEW_DIR)"
   ]
  },
  {
   "cell_type": "code",
   "execution_count": 5,
   "id": "91a4d028-cf22-4d88-8865-0932f1fd394e",
   "metadata": {},
   "outputs": [
    {
     "name": "stdout",
     "output_type": "stream",
     "text": [
      "indexing coco dataset annotations...\n"
     ]
    },
    {
     "name": "stderr",
     "output_type": "stream",
     "text": [
      "Loading coco annotations: 100%|██████████| 4419/4419 [00:15<00:00, 285.54it/s]\n"
     ]
    },
    {
     "name": "stdout",
     "output_type": "stream",
     "text": [
      "[{'id': 0, 'name': 'Fixed-wing Aircraft', 'supercategory': 'Fixed-wing Aircraft'}, {'id': 1, 'name': 'Small Aircraft', 'supercategory': 'Small Aircraft'}, {'id': 2, 'name': 'Cargo Plane', 'supercategory': 'Cargo Plane'}, {'id': 3, 'name': 'Helicopter', 'supercategory': 'Helicopter'}, {'id': 4, 'name': 'Passenger Vehicle', 'supercategory': 'Passenger Vehicle'}, {'id': 5, 'name': 'Small Car', 'supercategory': 'Small Car'}, {'id': 6, 'name': 'Bus', 'supercategory': 'Bus'}, {'id': 7, 'name': 'Pickup Truck', 'supercategory': 'Pickup Truck'}, {'id': 8, 'name': 'Utility Truck', 'supercategory': 'Utility Truck'}, {'id': 9, 'name': 'Truck', 'supercategory': 'Truck'}, {'id': 10, 'name': 'Cargo Truck', 'supercategory': 'Cargo Truck'}, {'id': 11, 'name': 'Truck w/Box', 'supercategory': 'Truck w/Box'}, {'id': 12, 'name': 'Truck Tractor', 'supercategory': 'Truck Tractor'}, {'id': 13, 'name': 'Trailer', 'supercategory': 'Trailer'}, {'id': 14, 'name': 'Truck w/Flatbed', 'supercategory': 'Truck w/Flatbed'}, {'id': 15, 'name': 'Truck w/Liquid', 'supercategory': 'Truck w/Liquid'}, {'id': 16, 'name': 'Crane Truck', 'supercategory': 'Crane Truck'}, {'id': 17, 'name': 'Railway Vehicle', 'supercategory': 'Railway Vehicle'}, {'id': 18, 'name': 'Passenger Car', 'supercategory': 'Passenger Car'}, {'id': 19, 'name': 'Cargo Car', 'supercategory': 'Cargo Car'}, {'id': 20, 'name': 'Flat Car', 'supercategory': 'Flat Car'}, {'id': 21, 'name': 'Tank car', 'supercategory': 'Tank car'}, {'id': 22, 'name': 'Locomotive', 'supercategory': 'Locomotive'}, {'id': 23, 'name': 'Maritime Vessel', 'supercategory': 'Maritime Vessel'}, {'id': 24, 'name': 'Motorboat', 'supercategory': 'Motorboat'}, {'id': 25, 'name': 'Sailboat', 'supercategory': 'Sailboat'}, {'id': 26, 'name': 'Tugboat', 'supercategory': 'Tugboat'}, {'id': 27, 'name': 'Barge', 'supercategory': 'Barge'}, {'id': 28, 'name': 'Fishing Vessel', 'supercategory': 'Fishing Vessel'}, {'id': 29, 'name': 'Ferry', 'supercategory': 'Ferry'}, {'id': 30, 'name': 'Yacht', 'supercategory': 'Yacht'}, {'id': 31, 'name': 'Container Ship', 'supercategory': 'Container Ship'}, {'id': 32, 'name': 'Oil Tanker', 'supercategory': 'Oil Tanker'}, {'id': 33, 'name': 'Engineering Vehicle', 'supercategory': 'Engineering Vehicle'}, {'id': 34, 'name': 'Tower crane', 'supercategory': 'Tower crane'}, {'id': 35, 'name': 'Container Crane', 'supercategory': 'Container Crane'}, {'id': 36, 'name': 'Reach Stacker', 'supercategory': 'Reach Stacker'}, {'id': 37, 'name': 'Straddle Carrier', 'supercategory': 'Straddle Carrier'}, {'id': 38, 'name': 'Mobile Crane', 'supercategory': 'Mobile Crane'}, {'id': 39, 'name': 'Dump Truck', 'supercategory': 'Dump Truck'}, {'id': 40, 'name': 'Haul Truck', 'supercategory': 'Haul Truck'}, {'id': 41, 'name': 'Scraper/Tractor', 'supercategory': 'Scraper/Tractor'}, {'id': 42, 'name': 'Front loader/Bulldozer', 'supercategory': 'Front loader/Bulldozer'}, {'id': 43, 'name': 'Excavator', 'supercategory': 'Excavator'}, {'id': 44, 'name': 'Cement Mixer', 'supercategory': 'Cement Mixer'}, {'id': 45, 'name': 'Ground Grader', 'supercategory': 'Ground Grader'}, {'id': 46, 'name': 'Hut/Tent', 'supercategory': 'Hut/Tent'}, {'id': 47, 'name': 'Shed', 'supercategory': 'Shed'}, {'id': 48, 'name': 'Building', 'supercategory': 'Building'}, {'id': 49, 'name': 'Aircraft Hangar', 'supercategory': 'Aircraft Hangar'}, {'id': 50, 'name': 'Damaged Building', 'supercategory': 'Damaged Building'}, {'id': 51, 'name': 'Facility', 'supercategory': 'Facility'}, {'id': 52, 'name': 'Construction Site', 'supercategory': 'Construction Site'}, {'id': 53, 'name': 'Vehicle Lot', 'supercategory': 'Vehicle Lot'}, {'id': 54, 'name': 'Helipad', 'supercategory': 'Helipad'}, {'id': 55, 'name': 'Storage Tank', 'supercategory': 'Storage Tank'}, {'id': 56, 'name': 'Shipping container lot', 'supercategory': 'Shipping container lot'}, {'id': 57, 'name': 'Shipping Container', 'supercategory': 'Shipping Container'}, {'id': 58, 'name': 'Pylon', 'supercategory': 'Pylon'}, {'id': 59, 'name': 'Tower', 'supercategory': 'Tower'}]\n",
      "{'num_images': 4419, 'num_annotations': 238490, 'num_categories': 60, 'num_negative_images': 0, 'num_images_per_category': {'Building': 3410, 'Small Car': 2821, 'Damaged Building': 253, 'Facility': 333, 'Utility Truck': 591, 'Truck': 1020, 'Shed': 222, 'Dump Truck': 183, 'Cargo Truck': 818, 'Vehicle Lot': 676, 'Storage Tank': 140, 'Bus': 738, 'Aircraft Hangar': 51, 'Cargo Plane': 175, 'Truck w/Box': 421, 'Oil Tanker': 41, 'Trailer': 337, 'Tugboat': 59, 'Maritime Vessel': 152, 'Fishing Vessel': 99, 'Truck w/Flatbed': 204, 'Shipping container lot': 206, 'Shipping Container': 128, 'Crane Truck': 36, 'Passenger Car': 27, 'Tower crane': 46, 'Mobile Crane': 99, 'Barge': 72, 'Container Ship': 135, 'Pickup Truck': 169, 'Container Crane': 60, 'Motorboat': 107, 'Truck Tractor': 112, 'Passenger Vehicle': 223, 'Excavator': 141, 'Haul Truck': 64, 'Pylon': 122, 'Hut/Tent': 75, 'Construction Site': 183, 'Small Aircraft': 45, 'Engineering Vehicle': 67, 'Front loader/Bulldozer': 113, 'Cement Mixer': 38, 'Truck w/Liquid': 35, 'Ground Grader': 27, 'Scraper/Tractor': 10, 'Ferry': 45, 'Yacht': 28, 'Helipad': 19, 'Reach Stacker': 37, 'Sailboat': 26, 'Helicopter': 11, 'Locomotive': 14, 'Cargo Car': 23, 'Tank car': 3, 'Flat Car': 6, 'Fixed-wing Aircraft': 13, 'Tower': 20, 'Straddle Carrier': 18, 'Railway Vehicle': 1}, 'num_annotations_per_category': {'Fixed-wing Aircraft': 61, 'Small Aircraft': 67, 'Cargo Plane': 395, 'Helicopter': 15, 'Passenger Vehicle': 1586, 'Small Car': 82931, 'Bus': 2330, 'Pickup Truck': 340, 'Utility Truck': 1348, 'Truck': 3361, 'Cargo Truck': 2589, 'Truck w/Box': 1554, 'Truck Tractor': 721, 'Trailer': 1587, 'Truck w/Flatbed': 504, 'Truck w/Liquid': 65, 'Crane Truck': 44, 'Railway Vehicle': 1, 'Passenger Car': 101, 'Cargo Car': 225, 'Flat Car': 16, 'Tank car': 4, 'Locomotive': 25, 'Maritime Vessel': 460, 'Motorboat': 606, 'Sailboat': 169, 'Tugboat': 128, 'Barge': 122, 'Fishing Vessel': 458, 'Ferry': 75, 'Yacht': 74, 'Container Ship': 344, 'Oil Tanker': 48, 'Engineering Vehicle': 78, 'Tower crane': 66, 'Container Crane': 95, 'Reach Stacker': 54, 'Straddle Carrier': 38, 'Mobile Crane': 202, 'Dump Truck': 436, 'Haul Truck': 222, 'Scraper/Tractor': 10, 'Front loader/Bulldozer': 160, 'Excavator': 223, 'Cement Mixer': 165, 'Ground Grader': 34, 'Hut/Tent': 150, 'Shed': 519, 'Building': 127103, 'Aircraft Hangar': 93, 'Damaged Building': 440, 'Facility': 545, 'Construction Site': 423, 'Vehicle Lot': 2123, 'Helipad': 37, 'Storage Tank': 522, 'Shipping container lot': 1218, 'Shipping Container': 1004, 'Pylon': 154, 'Tower': 22}, 'min_num_annotations_in_image': 1, 'max_num_annotations_in_image': 1294, 'avg_num_annotations_in_image': 53.96922380629102, 'min_annotation_area': 1, 'max_annotation_area': 409600, 'avg_annotation_area': 2221.9185290787873, 'min_annotation_area_per_category': {'Fixed-wing Aircraft': 493, 'Small Aircraft': 387, 'Cargo Plane': 550, 'Helicopter': 441, 'Passenger Vehicle': 14, 'Small Car': 6, 'Bus': 13, 'Pickup Truck': 24, 'Utility Truck': 15, 'Truck': 11, 'Cargo Truck': 13, 'Truck w/Box': 14, 'Truck Tractor': 12, 'Trailer': 27, 'Truck w/Flatbed': 100, 'Truck w/Liquid': 138, 'Crane Truck': 210, 'Railway Vehicle': 110, 'Passenger Car': 391, 'Cargo Car': 111, 'Flat Car': 96, 'Tank car': 943, 'Locomotive': 624, 'Maritime Vessel': 100, 'Motorboat': 27, 'Sailboat': 72, 'Tugboat': 160, 'Barge': 324, 'Fishing Vessel': 81, 'Ferry': 80, 'Yacht': 161, 'Container Ship': 798, 'Oil Tanker': 3055, 'Engineering Vehicle': 60, 'Tower crane': 285, 'Container Crane': 612, 'Reach Stacker': 98, 'Straddle Carrier': 1302, 'Mobile Crane': 182, 'Dump Truck': 16, 'Haul Truck': 200, 'Scraper/Tractor': 150, 'Front loader/Bulldozer': 30, 'Excavator': 72, 'Cement Mixer': 56, 'Ground Grader': 216, 'Hut/Tent': 102, 'Shed': 44, 'Building': 1, 'Aircraft Hangar': 301, 'Damaged Building': 136, 'Facility': 260, 'Construction Site': 187, 'Vehicle Lot': 96, 'Helipad': 180, 'Storage Tank': 21, 'Shipping container lot': 266, 'Shipping Container': 36, 'Pylon': 76, 'Tower': 342}, 'max_annotation_area_per_category': {'Fixed-wing Aircraft': 27354, 'Small Aircraft': 4640, 'Cargo Plane': 53460, 'Helicopter': 2295, 'Passenger Vehicle': 1500, 'Small Car': 9443, 'Bus': 2976, 'Pickup Truck': 528, 'Utility Truck': 1260, 'Truck': 3658, 'Cargo Truck': 23542, 'Truck w/Box': 16642, 'Truck Tractor': 2014, 'Trailer': 100130, 'Truck w/Flatbed': 4340, 'Truck w/Liquid': 1886, 'Crane Truck': 2592, 'Railway Vehicle': 110, 'Passenger Car': 4524, 'Cargo Car': 4704, 'Flat Car': 3735, 'Tank car': 3240, 'Locomotive': 5394, 'Maritime Vessel': 217651, 'Motorboat': 2850, 'Sailboat': 39216, 'Tugboat': 15867, 'Barge': 181279, 'Fishing Vessel': 56496, 'Ferry': 31980, 'Yacht': 12376, 'Container Ship': 221440, 'Oil Tanker': 108732, 'Engineering Vehicle': 8600, 'Tower crane': 36064, 'Container Crane': 257702, 'Reach Stacker': 2745, 'Straddle Carrier': 32760, 'Mobile Crane': 23256, 'Dump Truck': 1692, 'Haul Truck': 4802, 'Scraper/Tractor': 575, 'Front loader/Bulldozer': 3060, 'Excavator': 1925, 'Cement Mixer': 2332, 'Ground Grader': 900, 'Hut/Tent': 25972, 'Shed': 36828, 'Building': 409600, 'Aircraft Hangar': 145800, 'Damaged Building': 57638, 'Facility': 409600, 'Construction Site': 409600, 'Vehicle Lot': 358400, 'Helipad': 34404, 'Storage Tank': 39114, 'Shipping container lot': 272640, 'Shipping Container': 2960, 'Pylon': 7426, 'Tower': 7772}}\n",
      "{0, 1, 2, 3, 4, 5, 6, 7, 8, 9, 10, 11, 12, 13, 14, 15, 16, 17, 18, 19, 20, 21, 22, 23, 24, 25, 26, 27, 28, 29, 30, 31}\n",
      "indexing coco dataset annotations...\n"
     ]
    },
    {
     "name": "stderr",
     "output_type": "stream",
     "text": [
      "Loading coco annotations: 100%|██████████| 32/32 [00:00<00:00, 5699.99it/s]"
     ]
    },
    {
     "name": "stdout",
     "output_type": "stream",
     "text": [
      "['/run/determined/workdir/shared_fs/01 - Users/andrew.mendez/e2e_blogposts/ngc_blog/xview_dataset/val_images_rgb_no_neg/val_images_640_02/2518_1024_1024_1664_1664.jpg', '/run/determined/workdir/shared_fs/01 - Users/andrew.mendez/e2e_blogposts/ngc_blog/xview_dataset/val_images_rgb_no_neg/val_images_640_02/2518_1536_1024_2176_1664.jpg', '/run/determined/workdir/shared_fs/01 - Users/andrew.mendez/e2e_blogposts/ngc_blog/xview_dataset/val_images_rgb_no_neg/val_images_640_02/548_512_512_1152_1152.jpg', '/run/determined/workdir/shared_fs/01 - Users/andrew.mendez/e2e_blogposts/ngc_blog/xview_dataset/val_images_rgb_no_neg/val_images_640_02/548_1024_512_1664_1152.jpg', '/run/determined/workdir/shared_fs/01 - Users/andrew.mendez/e2e_blogposts/ngc_blog/xview_dataset/val_images_rgb_no_neg/val_images_640_02/2518_1024_1536_1664_2176.jpg', '/run/determined/workdir/shared_fs/01 - Users/andrew.mendez/e2e_blogposts/ngc_blog/xview_dataset/val_images_rgb_no_neg/val_images_640_02/2518_1536_1536_2176_2176.jpg', '/run/determined/workdir/shared_fs/01 - Users/andrew.mendez/e2e_blogposts/ngc_blog/xview_dataset/val_images_rgb_no_neg/val_images_640_02/2518_2048_1536_2688_2176.jpg', '/run/determined/workdir/shared_fs/01 - Users/andrew.mendez/e2e_blogposts/ngc_blog/xview_dataset/val_images_rgb_no_neg/val_images_640_02/2518_1024_2048_1664_2688.jpg', '/run/determined/workdir/shared_fs/01 - Users/andrew.mendez/e2e_blogposts/ngc_blog/xview_dataset/val_images_rgb_no_neg/val_images_640_02/2518_1536_2048_2176_2688.jpg', '/run/determined/workdir/shared_fs/01 - Users/andrew.mendez/e2e_blogposts/ngc_blog/xview_dataset/val_images_rgb_no_neg/val_images_640_02/2518_1024_2125_1664_2765.jpg', '/run/determined/workdir/shared_fs/01 - Users/andrew.mendez/e2e_blogposts/ngc_blog/xview_dataset/val_images_rgb_no_neg/val_images_640_02/2524_0_0_640_640.jpg', '/run/determined/workdir/shared_fs/01 - Users/andrew.mendez/e2e_blogposts/ngc_blog/xview_dataset/val_images_rgb_no_neg/val_images_640_02/2518_1536_2125_2176_2765.jpg', '/run/determined/workdir/shared_fs/01 - Users/andrew.mendez/e2e_blogposts/ngc_blog/xview_dataset/val_images_rgb_no_neg/val_images_640_02/807_0_0_640_640.jpg', '/run/determined/workdir/shared_fs/01 - Users/andrew.mendez/e2e_blogposts/ngc_blog/xview_dataset/val_images_rgb_no_neg/val_images_640_02/807_0_512_640_1152.jpg', '/run/determined/workdir/shared_fs/01 - Users/andrew.mendez/e2e_blogposts/ngc_blog/xview_dataset/val_images_rgb_no_neg/val_images_640_02/2215_512_0_1152_640.jpg', '/run/determined/workdir/shared_fs/01 - Users/andrew.mendez/e2e_blogposts/ngc_blog/xview_dataset/val_images_rgb_no_neg/val_images_640_02/2215_1024_0_1664_640.jpg', '/run/determined/workdir/shared_fs/01 - Users/andrew.mendez/e2e_blogposts/ngc_blog/xview_dataset/val_images_rgb_no_neg/val_images_640_02/2514_0_0_640_640.jpg', '/run/determined/workdir/shared_fs/01 - Users/andrew.mendez/e2e_blogposts/ngc_blog/xview_dataset/val_images_rgb_no_neg/val_images_640_02/2514_512_0_1152_640.jpg', '/run/determined/workdir/shared_fs/01 - Users/andrew.mendez/e2e_blogposts/ngc_blog/xview_dataset/val_images_rgb_no_neg/val_images_640_02/2514_2048_512_2688_1152.jpg', '/run/determined/workdir/shared_fs/01 - Users/andrew.mendez/e2e_blogposts/ngc_blog/xview_dataset/val_images_rgb_no_neg/val_images_640_02/2514_2273_512_2913_1152.jpg', '/run/determined/workdir/shared_fs/01 - Users/andrew.mendez/e2e_blogposts/ngc_blog/xview_dataset/val_images_rgb_no_neg/val_images_640_02/983_1024_1536_1664_2176.jpg', '/run/determined/workdir/shared_fs/01 - Users/andrew.mendez/e2e_blogposts/ngc_blog/xview_dataset/val_images_rgb_no_neg/val_images_640_02/983_1024_2031_1664_2671.jpg', '/run/determined/workdir/shared_fs/01 - Users/andrew.mendez/e2e_blogposts/ngc_blog/xview_dataset/val_images_rgb_no_neg/val_images_640_02/2251_0_0_640_640.jpg', '/run/determined/workdir/shared_fs/01 - Users/andrew.mendez/e2e_blogposts/ngc_blog/xview_dataset/val_images_rgb_no_neg/val_images_640_02/2391_0_0_640_640.jpg', '/run/determined/workdir/shared_fs/01 - Users/andrew.mendez/e2e_blogposts/ngc_blog/xview_dataset/val_images_rgb_no_neg/val_images_640_02/2391_512_0_1152_640.jpg', '/run/determined/workdir/shared_fs/01 - Users/andrew.mendez/e2e_blogposts/ngc_blog/xview_dataset/val_images_rgb_no_neg/val_images_640_02/2391_2048_0_2688_640.jpg', '/run/determined/workdir/shared_fs/01 - Users/andrew.mendez/e2e_blogposts/ngc_blog/xview_dataset/val_images_rgb_no_neg/val_images_640_02/2391_2560_0_3200_640.jpg', '/run/determined/workdir/shared_fs/01 - Users/andrew.mendez/e2e_blogposts/ngc_blog/xview_dataset/val_images_rgb_no_neg/val_images_640_02/2391_2896_0_3536_640.jpg', '/run/determined/workdir/shared_fs/01 - Users/andrew.mendez/e2e_blogposts/ngc_blog/xview_dataset/val_images_rgb_no_neg/val_images_640_02/2391_2560_512_3200_1152.jpg', '/run/determined/workdir/shared_fs/01 - Users/andrew.mendez/e2e_blogposts/ngc_blog/xview_dataset/val_images_rgb_no_neg/val_images_640_02/2391_2896_512_3536_1152.jpg', '/run/determined/workdir/shared_fs/01 - Users/andrew.mendez/e2e_blogposts/ngc_blog/xview_dataset/val_images_rgb_no_neg/val_images_640_02/2518_0_512_640_1152.jpg', '/run/determined/workdir/shared_fs/01 - Users/andrew.mendez/e2e_blogposts/ngc_blog/xview_dataset/val_images_rgb_no_neg/val_images_640_02/303_1024_1536_1664_2176.jpg']\n"
     ]
    },
    {
     "name": "stderr",
     "output_type": "stream",
     "text": [
      "\n"
     ]
    }
   ],
   "source": [
    "PATH = '/run/determined/workdir/shared_fs/01 - Users/andrew.mendez/e2e_blogposts/ngc_blog/xview_dataset/val_images_rgb_no_neg/val_640_02.json'\n",
    "\n",
    "coco = Coco.from_coco_dict_or_path(PATH)\n",
    "print(coco.json_categories)\n",
    "coco.calculate_stats()\n",
    "print(coco.stats)\n",
    "update_categories_small(coco,desired_name2id={'Fixed-wing Aircraft':1,'Cargo Plane':2})\n",
    "coco.calculate_stats()\n",
    "from sahi.utils.coco import create_coco_dict\n",
    "cats = coco.json_categories\n",
    "di = create_coco_dict(coco.images,coco.categories,ignore_negative_samples=True)\n",
    "di['categories']=coco.json_categories\n",
    "JSON_PATH='/run/determined/workdir/shared_fs/01 - Users/andrew.mendez/e2e_blogposts/ngc_blog/xview_dataset/val_images_rgb_no_neg/val_640_02_filtered_32.json'\n",
    "json.dump(di,open(JSON_PATH,'w'))\n",
    "coco_u = Coco.from_coco_dict_or_path(JSON_PATH)\n",
    "# create new folder that only has the images in the training set\n",
    "id2fname = {i.id:i.file_name for i in coco_u.images}\n",
    "fnames = list(id2fname.values())\n",
    "import os\n",
    "NEW_DIR = '/run/determined/workdir/shared_fs/01 - Users/andrew.mendez/e2e_blogposts/ngc_blog/xview_dataset/val_images_rgb_no_neg_filt_32/val_images_640_02_filt_32'\n",
    "\n",
    "full_fnames = [os.path.join('/run/determined/workdir/shared_fs/01 - Users/andrew.mendez/e2e_blogposts/ngc_blog/xview_dataset/val_images_rgb_no_neg/val_images_640_02',i) for i in fnames]\n",
    "print(full_fnames)\n",
    "copy_files_to_directory(full_fnames,NEW_DIR)"
   ]
  },
  {
   "cell_type": "code",
   "execution_count": 99,
   "id": "a610801a-3240-4cbc-87bd-99bf7c7e50fb",
   "metadata": {},
   "outputs": [
    {
     "name": "stdout",
     "output_type": "stream",
     "text": [
      "26007\n"
     ]
    }
   ],
   "source": [
    "!ls /run/determined/workdir/shared_fs/01\\ -\\ Users/andrew.mendez/e2e_blogposts/ngc_blog/xview_dataset/train_images_rgb_no_neg/train_images_640_02/ | wc -l"
   ]
  },
  {
   "cell_type": "code",
   "execution_count": 122,
   "id": "74ca3bf8-da43-4555-9848-41bc097b58cd",
   "metadata": {},
   "outputs": [],
   "source": [
    "\n",
    "# copy_files_to_directory(full_fnames,NEW_DIR)"
   ]
  },
  {
   "cell_type": "code",
   "execution_count": 43,
   "id": "6acbe9a2-923d-4729-a59a-96a5530a3b06",
   "metadata": {},
   "outputs": [],
   "source": [
    "coco.calculate_stats()\n",
    "coco.stats"
   ]
  },
  {
   "cell_type": "code",
   "execution_count": 8,
   "id": "3ab0e64a-7336-4420-9469-336931ab0cce",
   "metadata": {},
   "outputs": [
    {
     "data": {
      "text/plain": [
       "32"
      ]
     },
     "execution_count": 8,
     "metadata": {},
     "output_type": "execute_result"
    }
   ],
   "source": [
    "image_ids = [i.id for i in coco_u.images]\n",
    "# ids = list(image_ids.keys())\n",
    "id_2_coco = {i.id:i for i in coco_u.images}\n",
    "len(image_ids)"
   ]
  },
  {
   "cell_type": "code",
   "execution_count": 13,
   "id": "edfd38cd-5701-4d46-951c-965c45e55a2a",
   "metadata": {},
   "outputs": [
    {
     "data": {
      "text/plain": [
       "CocoImage<\n",
       "    id: 11,\n",
       "    file_name: 2524_0_0_640_640.jpg,\n",
       "    height: 640,\n",
       "    width: 640,\n",
       "    annotations: List[CocoAnnotation],\n",
       "    predictions: List[CocoPrediction]>"
      ]
     },
     "execution_count": 13,
     "metadata": {},
     "output_type": "execute_result"
    }
   ],
   "source": [
    "IDX = 10\n",
    "id_2_coco[image_ids[IDX]]"
   ]
  },
  {
   "cell_type": "code",
   "execution_count": 12,
   "id": "6a5b0da6-c847-472c-83dc-733d0f7df73b",
   "metadata": {},
   "outputs": [
    {
     "name": "stdout",
     "output_type": "stream",
     "text": [
      "CocoAnnotation<\n",
      "    image_id: None,\n",
      "    bbox: [263.0, 189.0, 56.0, 46.0],\n",
      "    segmentation: [[263, 189, 263, 235, 319, 235, 319, 189]],\n",
      "    category_id: 2,\n",
      "    category_name: Cargo Plane,\n",
      "    iscrowd: 0,\n",
      "    area: 2576>\n",
      "CocoAnnotation<\n",
      "    image_id: None,\n",
      "    bbox: [295.0, 80.0, 55.0, 45.0],\n",
      "    segmentation: [[295, 80, 295, 125, 350, 125, 350, 80]],\n",
      "    category_id: 2,\n",
      "    category_name: Cargo Plane,\n",
      "    iscrowd: 0,\n",
      "    area: 2475>\n",
      "CocoAnnotation<\n",
      "    image_id: None,\n",
      "    bbox: [92.0, 2.0, 73.0, 48.0],\n",
      "    segmentation: [[92, 2, 92, 50, 165, 50, 165, 2]],\n",
      "    category_id: 2,\n",
      "    category_name: Cargo Plane,\n",
      "    iscrowd: 0,\n",
      "    area: 3504>\n",
      "CocoAnnotation<\n",
      "    image_id: None,\n",
      "    bbox: [438.0, 180.0, 64.0, 52.0],\n",
      "    segmentation: [[438, 180, 438, 232, 502, 232, 502, 180]],\n",
      "    category_id: 2,\n",
      "    category_name: Cargo Plane,\n",
      "    iscrowd: 0,\n",
      "    area: 3328>\n",
      "CocoAnnotation<\n",
      "    image_id: None,\n",
      "    bbox: [419.0, 268.0, 61.0, 53.0],\n",
      "    segmentation: [[419, 268, 419, 321, 480, 321, 480, 268]],\n",
      "    category_id: 2,\n",
      "    category_name: Cargo Plane,\n",
      "    iscrowd: 0,\n",
      "    area: 3233>\n",
      "CocoAnnotation<\n",
      "    image_id: None,\n",
      "    bbox: [246.0, 287.0, 68.0, 48.0],\n",
      "    segmentation: [[246, 287, 246, 335, 314, 335, 314, 287]],\n",
      "    category_id: 2,\n",
      "    category_name: Cargo Plane,\n",
      "    iscrowd: 0,\n",
      "    area: 3264>\n"
     ]
    },
    {
     "data": {
      "image/png": "[encoded data removed]",
      "text/plain": [
       "<Figure size 640x480 with 1 Axes>"
      ]
     },
     "metadata": {},
     "output_type": "display_data"
    }
   ],
   "source": [
    "from PIL import Image, ImageDraw\n",
    "import matplotlib.pyplot as plt\n",
    "IDX = 10\n",
    "im = Image.open('/run/determined/workdir/shared_fs/01 - Users/andrew.mendez/e2e_blogposts/ngc_blog/xview_dataset/val_images_rgb_no_neg_filt_32/val_images_640_02_filt_32/' + id_2_coco[image_ids[IDX]].file_name)\n",
    "draw = ImageDraw.Draw(im)\n",
    "for a in id_2_coco[image_ids[IDX]].annotations:\n",
    "    # print(a)\n",
    "    # if a.category_id ==0 or a.category_id ==2:\n",
    "    x,y,w,h = a.bbox\n",
    "    print(a)\n",
    "    draw.rectangle([x,y,x+w,y+h],None,(255,0,0),1)\n",
    "plt.imshow(im)\n",
    "plt.show()"
   ]
  },
  {
   "cell_type": "code",
   "execution_count": 131,
   "id": "fafa9e5d-2633-414e-9e43-1c049a792aa1",
   "metadata": {},
   "outputs": [],
   "source": [
    "# save_json(coco.json,'xview_dataset/train_images_rgb_no_neg/train_640_02_filtered_negatives.json')"
   ]
  },
  {
   "cell_type": "code",
   "execution_count": 138,
   "id": "75213f1e-7020-401b-91a9-90dadcc7cec5",
   "metadata": {},
   "outputs": [],
   "source": [
    "# from typing import Dict, List, Optional, Set, Union\n",
    "# def remove_invalid_coco_results2(result_list_or_path: Union[List, str], dataset_dict_or_path: Union[Dict, str] = None):\n",
    "#     \"\"\"\n",
    "#     Removes invalid predictions from coco result such as:\n",
    "#         - negative bbox value\n",
    "#         - extreme bbox value\n",
    "\n",
    "#     Args:\n",
    "#         result_list_or_path: path or list for coco result json\n",
    "#         dataset_dict_or_path (optional): path or dict for coco dataset json\n",
    "#     \"\"\"\n",
    "\n",
    "#     # prepare coco results\n",
    "#     if isinstance(result_list_or_path, str):\n",
    "#         result_list = [load_json(result_list_or_path)]\n",
    "#     elif isinstance(result_list_or_path, list):\n",
    "#         result_list = result_list_or_path\n",
    "#     else:\n",
    "#         raise TypeError('incorrect type for \"result_list_or_path\"')\n",
    "\n",
    "#     # prepare image info from coco dataset\n",
    "#     if dataset_dict_or_path is not None:\n",
    "#         if isinstance(dataset_dict_or_path, str):\n",
    "#             dataset_dict = load_json(dataset_dict_or_path)\n",
    "#         elif isinstance(dataset_dict_or_path, dict):\n",
    "#             dataset_dict = dataset_dict_or_path\n",
    "#         else:\n",
    "#             raise TypeError('incorrect type for \"dataset_dict\"')\n",
    "#         image_id_to_height = {}\n",
    "#         image_id_to_width = {}\n",
    "#         for coco_image in dataset_dict[\"images\"]:\n",
    "#             image_id_to_height[coco_image[\"id\"]] = coco_image[\"height\"]\n",
    "#             image_id_to_width[coco_image[\"id\"]] = coco_image[\"width\"]\n",
    "\n",
    "#     # remove invalid predictions\n",
    "#     fixed_result_list = []\n",
    "#     for coco_result in result_list:\n",
    "#         bbox = coco_result[\"bbox\"]\n",
    "#         # ignore invalid predictions\n",
    "#         if not bbox:\n",
    "#             print(\"ignoring invalid prediction with empty bbox\")\n",
    "#             continue\n",
    "#         if bbox[0] < 0 or bbox[1] < 0 or bbox[2] < 0 or bbox[3] < 0:\n",
    "#             print(f\"ignoring invalid prediction with bbox: {bbox}\")\n",
    "#             continue\n",
    "#         if dataset_dict_or_path is not None:\n",
    "#             if (\n",
    "#                 bbox[1] > image_id_to_height[coco_result[\"image_id\"]]\n",
    "#                 or bbox[3] > image_id_to_height[coco_result[\"image_id\"]]\n",
    "#                 or bbox[0] > image_id_to_width[coco_result[\"image_id\"]]\n",
    "#                 or bbox[2] > image_id_to_width[coco_result[\"image_id\"]]\n",
    "#             ):\n",
    "#                 print(f\"ignoring invalid prediction with bbox: {bbox}\")\n",
    "#                 continue\n",
    "#         fixed_result_list.append(coco_result)\n",
    "#     return fixed_result_list"
   ]
  },
  {
   "cell_type": "code",
   "execution_count": 44,
   "id": "473367b0-e0e4-4eb9-8f17-7004b5a68870",
   "metadata": {},
   "outputs": [],
   "source": [
    "# # from sahi.utils.coco import remove_invalid_coco_results\n",
    "\n",
    "# # remove invalid predictions from COCO results JSON\n",
    "# coco_results = remove_invalid_coco_results2(\"xview_dataset/train_images_rgb_no_neg/train_640_02_filtered_negatives.json\")\n",
    "\n",
    "# # export processed COCO results\n",
    "# save_json(coco_results.json, \"xview_dataset/train_images_rgb_no_neg/train_640_02_filtered.json\")\n",
    "\n",
    "# # bonus: remove invalid predictions from COCO results JSON by giving COCO\n",
    "# # dataset path to also filter out bbox results exceeding image height&width\n",
    "# # coco_results = remove_invalid_coco_results(\"coco_result.json\", \"coco_dataset.json\")"
   ]
  },
  {
   "cell_type": "code",
   "execution_count": 2,
   "id": "68c3772a-0445-4fa5-9b43-84d7c27481f7",
   "metadata": {},
   "outputs": [
    {
     "name": "stderr",
     "output_type": "stream",
     "text": [
      "/opt/conda/lib/python3.8/site-packages/tqdm/auto.py:21: TqdmWarning: IProgress not found. Please update jupyter and ipywidgets. See https://ipywidgets.readthedocs.io/en/stable/user_install.html\n",
      "  from .autonotebook import tqdm as notebook_tqdm\n"
     ]
    },
    {
     "name": "stdout",
     "output_type": "stream",
     "text": [
      "Loading /run/determined/workdir/shared_fs/01 - Users/andrew.mendez/e2e_blogposts/ngc_blog/xview_dataset/train_images_rgb_no_neg/train_640_02.json...\n",
      "indexing coco dataset annotations...\n"
     ]
    },
    {
     "name": "stderr",
     "output_type": "stream",
     "text": [
      "Loading coco annotations: 100%|██████████| 15154/15154 [00:55<00:00, 272.95it/s]\n"
     ]
    },
    {
     "name": "stdout",
     "output_type": "stream",
     "text": [
      "Done!\n",
      "Saving xview_dataset/train_images_rgb_no_neg/train_640_02_filtered.json...\n",
      "indexing coco dataset annotations...\n"
     ]
    },
    {
     "name": "stderr",
     "output_type": "stream",
     "text": [
      "Loading coco annotations: 100%|██████████| 579/579 [00:00<00:00, 7532.39it/s]"
     ]
    },
    {
     "name": "stdout",
     "output_type": "stream",
     "text": [
      "Saved!\n",
      "Coco Stats:\n",
      "{'num_images': 579, 'num_annotations': 1151, 'num_categories': 2, 'num_negative_images': 0, 'num_images_per_category': {'Fixed-wing Aircraft': 68, 'Cargo Plane': 540}, 'num_annotations_per_category': {'Fixed-wing Aircraft': 88, 'Cargo Plane': 1063}, 'min_num_annotations_in_image': 1, 'max_num_annotations_in_image': 12, 'avg_num_annotations_in_image': 1.987910189982729, 'min_annotation_area': 272, 'max_annotation_area': 62464, 'avg_annotation_area': 10769.621198957428, 'min_annotation_area_per_category': {'Fixed-wing Aircraft': 272, 'Cargo Plane': 324}, 'max_annotation_area_per_category': {'Fixed-wing Aircraft': 15255, 'Cargo Plane': 62464}}\n"
     ]
    },
    {
     "name": "stderr",
     "output_type": "stream",
     "text": [
      "\n"
     ]
    }
   ],
   "source": [
    "import json\n",
    "from sahi.utils.coco import Coco, CocoAnnotation, CocoCategory, CocoImage\n",
    "from sahi.utils.file import load_json, save_json\n",
    "from sahi.utils.coco import create_coco_dict\n",
    "import copy\n",
    "import os\n",
    "\n",
    "def update_categories(coco,desired_name2id, update_image_filenames=False):\n",
    "        \"\"\"\n",
    "        Rearranges category mapping of given COCO object based on given desired_name2id.\n",
    "        Can also be used to filter some of the categories.\n",
    "\n",
    "        Args:\n",
    "            desired_name2id: dict\n",
    "                {\"big_vehicle\": 1, \"car\": 2, \"human\": 3}\n",
    "            update_image_filenames: bool\n",
    "                If True, updates coco image file_names with absolute file paths.\n",
    "        \"\"\"\n",
    "        # init vars\n",
    "        currentid2desiredid_mapping = {}\n",
    "        updated_coco = Coco(\n",
    "            name=coco.name,\n",
    "            image_dir=coco.image_dir,\n",
    "            remapping_dict=coco.remapping_dict,\n",
    "            ignore_negative_samples=coco.ignore_negative_samples,\n",
    "        )\n",
    "        # create category id mapping (currentid2desiredid_mapping)\n",
    "        for coco_category in copy.deepcopy(coco.categories):\n",
    "            current_category_id = coco_category.id\n",
    "            current_category_name = coco_category.name\n",
    "            if current_category_name in desired_name2id.keys():\n",
    "                currentid2desiredid_mapping[current_category_id] = desired_name2id[current_category_name]\n",
    "            else:\n",
    "                # ignore categories that are not included in desired_name2id\n",
    "                currentid2desiredid_mapping[current_category_id] = None\n",
    "\n",
    "        # add updated categories\n",
    "        for name in desired_name2id.keys():\n",
    "            updated_coco_category = CocoCategory(id=desired_name2id[name], name=name, supercategory=name)\n",
    "            updated_coco.add_category(updated_coco_category)\n",
    "\n",
    "        # add updated images & annotations\n",
    "        for coco_image in copy.deepcopy(coco.images):\n",
    "            updated_coco_image = CocoImage.from_coco_image_dict(coco_image.json)\n",
    "            # update filename to abspath\n",
    "            file_name_is_abspath = True if os.path.abspath(coco_image.file_name) == coco_image.file_name else False\n",
    "            if update_image_filenames and not file_name_is_abspath:\n",
    "                updated_coco_image.file_name = str(Path(os.path.abspath(self.image_dir)) / coco_image.file_name)\n",
    "            # update annotations\n",
    "            for coco_annotation in coco_image.annotations:\n",
    "                # print(coco_annotation)\n",
    "                current_category_id = coco_annotation.category_id\n",
    "                desired_category_id = currentid2desiredid_mapping[current_category_id]\n",
    "                # append annotations with category id present in desired_name2id\n",
    "                if desired_category_id is not None:\n",
    "                    # update cetegory id\n",
    "                    coco_annotation.category_id = desired_category_id\n",
    "                    # append updated annotation to target coco dict\n",
    "                    updated_coco_image.add_annotation(coco_annotation)\n",
    "            updated_coco.add_image(updated_coco_image)\n",
    "\n",
    "        # overwrite instance\n",
    "        coco.__class__ = updated_coco.__class__\n",
    "        coco.__dict__ = updated_coco.__dict__\n",
    "        \n",
    "## Final filter function\n",
    "def filter_and_save_dataset(coco_json_path,\n",
    "                            desired_name2id=None,\n",
    "                            name_of_new_coco_json=None):\n",
    "    '''\n",
    "    '''\n",
    "    #(Andrew 7.13.2023) Note: coco.update_categories does not check if \n",
    "    print(\"Loading {}...\".format(coco_json_path))\n",
    "    coco = Coco.from_coco_dict_or_path(coco_json_path)\n",
    "    print(\"Done!\")\n",
    "    update_categories(coco,desired_name2id=desired_name2id)\n",
    "    coco.calculate_stats()\n",
    "    cats = coco.json_categories\n",
    "    di = create_coco_dict(coco.images,coco.categories,ignore_negative_samples=True)\n",
    "    di['categories']=coco.json_categories\n",
    "    json.dump(di,open(name_of_new_coco_json,'w'))\n",
    "    print(\"Saving {}...\".format(name_of_new_coco_json))\n",
    "    coco_u = Coco.from_coco_dict_or_path(name_of_new_coco_json)\n",
    "    print(\"Saved!\")\n",
    "    print(\"Coco Stats:\")\n",
    "    print(coco_u.stats)\n",
    "\n",
    "coco_json_path='/run/determined/workdir/shared_fs/01 - Users/andrew.mendez/e2e_blogposts/ngc_blog/xview_dataset/train_images_rgb_no_neg/train_640_02.json'\n",
    "desired_name2id={'Fixed-wing Aircraft':1,'Cargo Plane':2}\n",
    "name_of_new_coco_json = 'xview_dataset/train_images_rgb_no_neg/train_640_02_filtered.json'\n",
    "filter_and_save_dataset(coco_json_path=coco_json_path,\n",
    "                        desired_name2id=desired_name2id,\n",
    "                        name_of_new_coco_json=name_of_new_coco_json)\n",
    "    \n",
    "    "
   ]
  },
  {
   "cell_type": "code",
   "execution_count": null,
   "id": "305627d4-b818-4516-b9cd-2cca6c32112a",
   "metadata": {},
   "outputs": [],
   "source": []
  }
 ],
 "metadata": {
  "kernelspec": {
   "display_name": "Python 3 (ipykernel)",
   "language": "python",
   "name": "python3"
  },
  "language_info": {
   "codemirror_mode": {
    "name": "ipython",
    "version": 3
   },
   "file_extension": ".py",
   "mimetype": "text/x-python",
   "name": "python",
   "nbconvert_exporter": "python",
   "pygments_lexer": "ipython3",
   "version": "3.8.16"
  }
 },
 "nbformat": 4,
 "nbformat_minor": 5
}
